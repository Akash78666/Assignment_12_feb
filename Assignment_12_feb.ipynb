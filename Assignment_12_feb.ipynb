{
 "cells": [
  {
   "cell_type": "code",
   "execution_count": null,
   "id": "89b7ec49-054e-4a01-926e-cb1be8bfee97",
   "metadata": {},
   "outputs": [],
   "source": [
    "#what is  an exception in python?\n",
    "#Ans:-An exception is an event, which occurs during the execution of a program that disrupts the normal flow of the program's instructions.\n",
    "#write the difference between exception and sytntax error?\n",
    "#Ans:-Errors cannot be handled, while Python exceptions can be handled at the run time.\n"
   ]
  },
  {
   "cell_type": "code",
   "execution_count": 1,
   "id": "37fb88fa-2fc6-4376-b686-a4bfb3da641d",
   "metadata": {},
   "outputs": [
    {
     "ename": "ZeroDivisionError",
     "evalue": "division by zero",
     "output_type": "error",
     "traceback": [
      "\u001b[0;31m---------------------------------------------------------------------------\u001b[0m",
      "\u001b[0;31mZeroDivisionError\u001b[0m                         Traceback (most recent call last)",
      "Cell \u001b[0;32mIn[1], line 4\u001b[0m\n\u001b[1;32m      1\u001b[0m \u001b[38;5;66;03m#What happenc when an exception  is not handled?\u001b[39;00m\n\u001b[1;32m      2\u001b[0m \u001b[38;5;66;03m# Ans:-, the runtime system will abort the program (i.e. crash) and an exception message will print to the console\u001b[39;00m\n\u001b[1;32m      3\u001b[0m a\u001b[38;5;241m=\u001b[39m\u001b[38;5;241m10\u001b[39m\n\u001b[0;32m----> 4\u001b[0m \u001b[43ma\u001b[49m\u001b[38;5;241;43m/\u001b[39;49m\u001b[38;5;241;43m0\u001b[39;49m\n",
      "\u001b[0;31mZeroDivisionError\u001b[0m: division by zero"
     ]
    }
   ],
   "source": [
    "#What happenc when an exception  is not handled?\n",
    "# Ans:-, the runtime system will abort the program (i.e. crash) and an exception message will print to the console\n",
    "a=10\n",
    "a/0"
   ]
  },
  {
   "cell_type": "code",
   "execution_count": null,
   "id": "5ed6b76c-7a5d-4fa0-8f50-f1249e00e6c8",
   "metadata": {},
   "outputs": [],
   "source": [
    "#Which python statements are used to catch and handle exception?\n",
    "#Ans:-The try and except block in Python is used to catch and handle exceptions.\\\n",
    "#Example:-\n",
    "#a user providing abnormal input, a file system error being encountered when trying to read or write a file, or a program attempting to divide by zero"
   ]
  },
  {
   "cell_type": "code",
   "execution_count": 2,
   "id": "9c19a6a7-f8e6-4ddf-b929-9c614f1133b0",
   "metadata": {},
   "outputs": [
    {
     "name": "stdout",
     "output_type": "stream",
     "text": [
      "this is my except block [Errno 2] No such file or directory: 'test.txt'\n"
     ]
    }
   ],
   "source": [
    "try:\n",
    "    f=open(\"test.txt\",'r')\n",
    "    f.write(\"write into my file\")\n",
    "    f.close()\n",
    "except Exception as e:#this code (except) not run becasue try block runs succenfully\n",
    "        print(\"this is my except block\", e)\n",
    "else:#try block run sucesfully then else print :\n",
    "    f.close()\n",
    "    print(\"this will executed once your try will excute without error\")\n"
   ]
  },
  {
   "cell_type": "code",
   "execution_count": 3,
   "id": "5d0599fb-7209-4d6e-87f3-bbc870faefa0",
   "metadata": {},
   "outputs": [
    {
     "name": "stdout",
     "output_type": "stream",
     "text": [
      "finally will excute itself in any situation\n"
     ]
    },
    {
     "ename": "UnsupportedOperation",
     "evalue": "not writable",
     "output_type": "error",
     "traceback": [
      "\u001b[0;31m---------------------------------------------------------------------------\u001b[0m",
      "\u001b[0;31mUnsupportedOperation\u001b[0m                      Traceback (most recent call last)",
      "Cell \u001b[0;32mIn[3], line 3\u001b[0m\n\u001b[1;32m      1\u001b[0m \u001b[38;5;28;01mtry\u001b[39;00m:\n\u001b[1;32m      2\u001b[0m     f\u001b[38;5;241m=\u001b[39m\u001b[38;5;28mopen\u001b[39m(\u001b[38;5;124m\"\u001b[39m\u001b[38;5;124mtest3.txt\u001b[39m\u001b[38;5;124m\"\u001b[39m,\u001b[38;5;124m'\u001b[39m\u001b[38;5;124mr\u001b[39m\u001b[38;5;124m'\u001b[39m)\n\u001b[0;32m----> 3\u001b[0m     \u001b[43mf\u001b[49m\u001b[38;5;241;43m.\u001b[39;49m\u001b[43mwrite\u001b[49m\u001b[43m(\u001b[49m\u001b[38;5;124;43m\"\u001b[39;49m\u001b[38;5;124;43mwrite something\u001b[39;49m\u001b[38;5;124;43m\"\u001b[39;49m\u001b[43m)\u001b[49m\n\u001b[1;32m      4\u001b[0m \u001b[38;5;28;01mfinally\u001b[39;00m:\u001b[38;5;66;03m#finally block always runs your code run ye not run\u001b[39;00m\n\u001b[1;32m      5\u001b[0m     f\u001b[38;5;241m.\u001b[39mclose()\n",
      "\u001b[0;31mUnsupportedOperation\u001b[0m: not writable"
     ]
    }
   ],
   "source": [
    "try:\n",
    "    f=open(\"test3.txt\",'r')\n",
    "    f.write(\"write something\")\n",
    "finally:#finally block always runs your code run ye not run\n",
    "    f.close()\n",
    "    print(\"finally will excute itself in any situation\")"
   ]
  },
  {
   "cell_type": "code",
   "execution_count": 5,
   "id": "8449dab6-f802-442b-b250-7464050202c3",
   "metadata": {},
   "outputs": [
    {
     "name": "stdin",
     "output_type": "stream",
     "text": [
      "please in vote age: 4\n"
     ]
    }
   ],
   "source": [
    "#What are custom exceptions in python?\n",
    "#Ans:-Python, we can define custom exceptions by creating a new class that is derived from the built-in Exception class. \n",
    "# Why do we need custom exections?\n",
    "#Ans:-Built-in exceptions offer information about Python-related problems, and custom exceptions will add information about project-related problems\n",
    "age=int(input(\"please in vote age:\"))"
   ]
  },
  {
   "cell_type": "code",
   "execution_count": 6,
   "id": "c61a50e6-0e10-45f1-bebb-b29460b72350",
   "metadata": {},
   "outputs": [],
   "source": [
    "class validatenge(Exception):\n",
    "    \n",
    "    def __init__(self,msg):\n",
    "        self.msg=msg"
   ]
  },
  {
   "cell_type": "code",
   "execution_count": 7,
   "id": "3cc3b730-e00e-48c7-b3fc-fe412d4263b7",
   "metadata": {},
   "outputs": [],
   "source": [
    "def validatenge(age):\n",
    "    if age<0:\n",
    "        raise validatenge(\"entered age is negative\")\n",
    "    \n",
    "    elif age>100:\n",
    "        raise validatenge(\"entered age is very high\")\n",
    "    else:\n",
    "        print(\"age is valid\")\n",
    "    \n",
    "   \n",
    "    "
   ]
  },
  {
   "cell_type": "code",
   "execution_count": null,
   "id": "64741eee-2829-436d-813a-ba146a1ee93e",
   "metadata": {},
   "outputs": [],
   "source": [
    "# Create a custom exception class.Use this class to handle an exception"
   ]
  },
  {
   "cell_type": "code",
   "execution_count": 9,
   "id": "c6e02bd7-fe6a-43e6-b2b3-3dab90ebbb0c",
   "metadata": {},
   "outputs": [
    {
     "name": "stdin",
     "output_type": "stream",
     "text": [
      "please in vote age: 45\n"
     ]
    },
    {
     "name": "stdout",
     "output_type": "stream",
     "text": [
      "age is valid\n"
     ]
    }
   ],
   "source": [
    "try:\n",
    "    age=int(input(\"please in vote age:\"))\n",
    "    validatenge(age)\n",
    "except validatenge as e:\n",
    "    print(e)"
   ]
  },
  {
   "cell_type": "code",
   "execution_count": null,
   "id": "fe0f1b51-049c-4ea6-b51d-11ae71bace02",
   "metadata": {},
   "outputs": [],
   "source": []
  }
 ],
 "metadata": {
  "kernelspec": {
   "display_name": "Python 3 (ipykernel)",
   "language": "python",
   "name": "python3"
  },
  "language_info": {
   "codemirror_mode": {
    "name": "ipython",
    "version": 3
   },
   "file_extension": ".py",
   "mimetype": "text/x-python",
   "name": "python",
   "nbconvert_exporter": "python",
   "pygments_lexer": "ipython3",
   "version": "3.10.8"
  }
 },
 "nbformat": 4,
 "nbformat_minor": 5
}
